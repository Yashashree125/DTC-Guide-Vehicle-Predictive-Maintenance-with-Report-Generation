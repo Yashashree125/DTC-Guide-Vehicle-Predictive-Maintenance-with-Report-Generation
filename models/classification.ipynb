{
 "cells": [
  {
   "cell_type": "code",
   "execution_count": 1,
   "metadata": {},
   "outputs": [],
   "source": [
    "import numpy as np\n",
    "import pandas as pd\n",
    "import matplotlib.pyplot as plt\n",
    "import seaborn as sns\n",
    "import joblib\n",
    "import os\n",
    "from sklearn.model_selection import train_test_split, GridSearchCV, cross_val_score\n",
    "from sklearn.metrics import average_precision_score\n",
    "from sklearn.metrics import accuracy_score, classification_report, confusion_matrix, roc_curve, roc_auc_score, precision_recall_curve"
   ]
  },
  {
   "cell_type": "code",
   "execution_count": 2,
   "metadata": {},
   "outputs": [],
   "source": [
    "df = pd.read_csv(r'D:\\Mtech Project\\Code Files\\Report_Generation\\generated_synthetic_data.csv')"
   ]
  },
  {
   "cell_type": "code",
   "execution_count": 3,
   "metadata": {},
   "outputs": [
    {
     "data": {
      "text/html": [
       "<div>\n",
       "<style scoped>\n",
       "    .dataframe tbody tr th:only-of-type {\n",
       "        vertical-align: middle;\n",
       "    }\n",
       "\n",
       "    .dataframe tbody tr th {\n",
       "        vertical-align: top;\n",
       "    }\n",
       "\n",
       "    .dataframe thead th {\n",
       "        text-align: right;\n",
       "    }\n",
       "</style>\n",
       "<table border=\"1\" class=\"dataframe\">\n",
       "  <thead>\n",
       "    <tr style=\"text-align: right;\">\n",
       "      <th></th>\n",
       "      <th>ENGINE_RPM</th>\n",
       "      <th>ENGINE_COOLANT_TEMP</th>\n",
       "      <th>ENGINE_LOAD</th>\n",
       "      <th>THROTTLE_POS</th>\n",
       "      <th>INTAKE_MANIFOLD_PRESSURE</th>\n",
       "      <th>AIR_INTAKE_TEMP</th>\n",
       "      <th>ENGINE_POWER</th>\n",
       "      <th>TIMING_ADVANCE</th>\n",
       "      <th>TROUBLE_CODES</th>\n",
       "      <th>MODEL</th>\n",
       "    </tr>\n",
       "  </thead>\n",
       "  <tbody>\n",
       "    <tr>\n",
       "      <th>0</th>\n",
       "      <td>-0.483289</td>\n",
       "      <td>1.819693</td>\n",
       "      <td>2.264298</td>\n",
       "      <td>0.307681</td>\n",
       "      <td>18.971967</td>\n",
       "      <td>-0.891699</td>\n",
       "      <td>-5.337629</td>\n",
       "      <td>1.663023</td>\n",
       "      <td>6</td>\n",
       "      <td>0</td>\n",
       "    </tr>\n",
       "    <tr>\n",
       "      <th>1</th>\n",
       "      <td>1.792010</td>\n",
       "      <td>0.127700</td>\n",
       "      <td>0.418440</td>\n",
       "      <td>1.004883</td>\n",
       "      <td>-0.521098</td>\n",
       "      <td>-0.897051</td>\n",
       "      <td>-5.337282</td>\n",
       "      <td>-0.838474</td>\n",
       "      <td>9</td>\n",
       "      <td>0</td>\n",
       "    </tr>\n",
       "    <tr>\n",
       "      <th>2</th>\n",
       "      <td>2.170687</td>\n",
       "      <td>1.471967</td>\n",
       "      <td>0.722376</td>\n",
       "      <td>0.786698</td>\n",
       "      <td>-6.337609</td>\n",
       "      <td>-1.668890</td>\n",
       "      <td>-5.337825</td>\n",
       "      <td>-1.060420</td>\n",
       "      <td>4</td>\n",
       "      <td>0</td>\n",
       "    </tr>\n",
       "    <tr>\n",
       "      <th>3</th>\n",
       "      <td>1.720239</td>\n",
       "      <td>1.995335</td>\n",
       "      <td>0.230258</td>\n",
       "      <td>5.347556</td>\n",
       "      <td>-4.822878</td>\n",
       "      <td>1.000610</td>\n",
       "      <td>-5.340326</td>\n",
       "      <td>-1.560652</td>\n",
       "      <td>8</td>\n",
       "      <td>0</td>\n",
       "    </tr>\n",
       "    <tr>\n",
       "      <th>4</th>\n",
       "      <td>1.542721</td>\n",
       "      <td>1.929527</td>\n",
       "      <td>1.368151</td>\n",
       "      <td>1.718805</td>\n",
       "      <td>-1.941518</td>\n",
       "      <td>-0.961434</td>\n",
       "      <td>-5.337438</td>\n",
       "      <td>0.322018</td>\n",
       "      <td>6</td>\n",
       "      <td>0</td>\n",
       "    </tr>\n",
       "  </tbody>\n",
       "</table>\n",
       "</div>"
      ],
      "text/plain": [
       "   ENGINE_RPM  ENGINE_COOLANT_TEMP  ENGINE_LOAD  THROTTLE_POS  \\\n",
       "0   -0.483289             1.819693     2.264298      0.307681   \n",
       "1    1.792010             0.127700     0.418440      1.004883   \n",
       "2    2.170687             1.471967     0.722376      0.786698   \n",
       "3    1.720239             1.995335     0.230258      5.347556   \n",
       "4    1.542721             1.929527     1.368151      1.718805   \n",
       "\n",
       "   INTAKE_MANIFOLD_PRESSURE  AIR_INTAKE_TEMP  ENGINE_POWER  TIMING_ADVANCE  \\\n",
       "0                 18.971967        -0.891699     -5.337629        1.663023   \n",
       "1                 -0.521098        -0.897051     -5.337282       -0.838474   \n",
       "2                 -6.337609        -1.668890     -5.337825       -1.060420   \n",
       "3                 -4.822878         1.000610     -5.340326       -1.560652   \n",
       "4                 -1.941518        -0.961434     -5.337438        0.322018   \n",
       "\n",
       "   TROUBLE_CODES  MODEL  \n",
       "0              6      0  \n",
       "1              9      0  \n",
       "2              4      0  \n",
       "3              8      0  \n",
       "4              6      0  "
      ]
     },
     "execution_count": 3,
     "metadata": {},
     "output_type": "execute_result"
    }
   ],
   "source": [
    "df.head()"
   ]
  },
  {
   "cell_type": "code",
   "execution_count": 4,
   "metadata": {},
   "outputs": [
    {
     "data": {
      "text/plain": [
       "Index(['ENGINE_RPM', 'ENGINE_COOLANT_TEMP', 'ENGINE_LOAD', 'THROTTLE_POS',\n",
       "       'INTAKE_MANIFOLD_PRESSURE', 'AIR_INTAKE_TEMP', 'ENGINE_POWER',\n",
       "       'TIMING_ADVANCE', 'TROUBLE_CODES', 'MODEL'],\n",
       "      dtype='object')"
      ]
     },
     "execution_count": 4,
     "metadata": {},
     "output_type": "execute_result"
    }
   ],
   "source": [
    "df.columns"
   ]
  },
  {
   "cell_type": "code",
   "execution_count": 5,
   "metadata": {},
   "outputs": [
    {
     "data": {
      "text/html": [
       "<div>\n",
       "<style scoped>\n",
       "    .dataframe tbody tr th:only-of-type {\n",
       "        vertical-align: middle;\n",
       "    }\n",
       "\n",
       "    .dataframe tbody tr th {\n",
       "        vertical-align: top;\n",
       "    }\n",
       "\n",
       "    .dataframe thead th {\n",
       "        text-align: right;\n",
       "    }\n",
       "</style>\n",
       "<table border=\"1\" class=\"dataframe\">\n",
       "  <thead>\n",
       "    <tr style=\"text-align: right;\">\n",
       "      <th></th>\n",
       "      <th>ENGINE_RPM</th>\n",
       "      <th>ENGINE_COOLANT_TEMP</th>\n",
       "      <th>ENGINE_LOAD</th>\n",
       "      <th>THROTTLE_POS</th>\n",
       "      <th>INTAKE_MANIFOLD_PRESSURE</th>\n",
       "      <th>AIR_INTAKE_TEMP</th>\n",
       "      <th>ENGINE_POWER</th>\n",
       "      <th>TIMING_ADVANCE</th>\n",
       "      <th>TROUBLE_CODES</th>\n",
       "      <th>MODEL</th>\n",
       "    </tr>\n",
       "  </thead>\n",
       "  <tbody>\n",
       "    <tr>\n",
       "      <th>count</th>\n",
       "      <td>35742.000000</td>\n",
       "      <td>35742.000000</td>\n",
       "      <td>35742.000000</td>\n",
       "      <td>35742.000000</td>\n",
       "      <td>35742.000000</td>\n",
       "      <td>35742.000000</td>\n",
       "      <td>35742.000000</td>\n",
       "      <td>35742.000000</td>\n",
       "      <td>35742.000000</td>\n",
       "      <td>35742.000000</td>\n",
       "    </tr>\n",
       "    <tr>\n",
       "      <th>mean</th>\n",
       "      <td>0.238887</td>\n",
       "      <td>0.861566</td>\n",
       "      <td>0.607251</td>\n",
       "      <td>0.781156</td>\n",
       "      <td>0.192846</td>\n",
       "      <td>-0.420412</td>\n",
       "      <td>-3.523199</td>\n",
       "      <td>-0.122949</td>\n",
       "      <td>4.281182</td>\n",
       "      <td>0.498321</td>\n",
       "    </tr>\n",
       "    <tr>\n",
       "      <th>std</th>\n",
       "      <td>1.246801</td>\n",
       "      <td>1.084553</td>\n",
       "      <td>1.326272</td>\n",
       "      <td>1.038919</td>\n",
       "      <td>2.824349</td>\n",
       "      <td>0.905043</td>\n",
       "      <td>2.595409</td>\n",
       "      <td>0.962978</td>\n",
       "      <td>2.795453</td>\n",
       "      <td>0.767863</td>\n",
       "    </tr>\n",
       "    <tr>\n",
       "      <th>min</th>\n",
       "      <td>-2.905266</td>\n",
       "      <td>-4.837296</td>\n",
       "      <td>-8.326769</td>\n",
       "      <td>-1.823951</td>\n",
       "      <td>-35.800572</td>\n",
       "      <td>-2.778244</td>\n",
       "      <td>-5.342043</td>\n",
       "      <td>-3.337648</td>\n",
       "      <td>0.000000</td>\n",
       "      <td>0.000000</td>\n",
       "    </tr>\n",
       "    <tr>\n",
       "      <th>25%</th>\n",
       "      <td>-0.844772</td>\n",
       "      <td>0.247400</td>\n",
       "      <td>-0.266327</td>\n",
       "      <td>0.204230</td>\n",
       "      <td>-0.300554</td>\n",
       "      <td>-1.115394</td>\n",
       "      <td>-5.338911</td>\n",
       "      <td>-0.758044</td>\n",
       "      <td>2.000000</td>\n",
       "      <td>0.000000</td>\n",
       "    </tr>\n",
       "    <tr>\n",
       "      <th>50%</th>\n",
       "      <td>0.112901</td>\n",
       "      <td>1.258965</td>\n",
       "      <td>0.428484</td>\n",
       "      <td>0.773355</td>\n",
       "      <td>-0.040288</td>\n",
       "      <td>-0.567387</td>\n",
       "      <td>-5.337739</td>\n",
       "      <td>-0.175465</td>\n",
       "      <td>5.000000</td>\n",
       "      <td>0.000000</td>\n",
       "    </tr>\n",
       "    <tr>\n",
       "      <th>75%</th>\n",
       "      <td>1.173753</td>\n",
       "      <td>1.626372</td>\n",
       "      <td>1.306662</td>\n",
       "      <td>1.335661</td>\n",
       "      <td>0.339458</td>\n",
       "      <td>0.219078</td>\n",
       "      <td>0.187317</td>\n",
       "      <td>0.548840</td>\n",
       "      <td>7.000000</td>\n",
       "      <td>1.000000</td>\n",
       "    </tr>\n",
       "    <tr>\n",
       "      <th>max</th>\n",
       "      <td>4.164243</td>\n",
       "      <td>4.597279</td>\n",
       "      <td>17.332665</td>\n",
       "      <td>10.533853</td>\n",
       "      <td>71.512436</td>\n",
       "      <td>2.926139</td>\n",
       "      <td>0.187317</td>\n",
       "      <td>2.822506</td>\n",
       "      <td>9.000000</td>\n",
       "      <td>2.000000</td>\n",
       "    </tr>\n",
       "  </tbody>\n",
       "</table>\n",
       "</div>"
      ],
      "text/plain": [
       "         ENGINE_RPM  ENGINE_COOLANT_TEMP   ENGINE_LOAD  THROTTLE_POS  \\\n",
       "count  35742.000000         35742.000000  35742.000000  35742.000000   \n",
       "mean       0.238887             0.861566      0.607251      0.781156   \n",
       "std        1.246801             1.084553      1.326272      1.038919   \n",
       "min       -2.905266            -4.837296     -8.326769     -1.823951   \n",
       "25%       -0.844772             0.247400     -0.266327      0.204230   \n",
       "50%        0.112901             1.258965      0.428484      0.773355   \n",
       "75%        1.173753             1.626372      1.306662      1.335661   \n",
       "max        4.164243             4.597279     17.332665     10.533853   \n",
       "\n",
       "       INTAKE_MANIFOLD_PRESSURE  AIR_INTAKE_TEMP  ENGINE_POWER  \\\n",
       "count              35742.000000     35742.000000  35742.000000   \n",
       "mean                   0.192846        -0.420412     -3.523199   \n",
       "std                    2.824349         0.905043      2.595409   \n",
       "min                  -35.800572        -2.778244     -5.342043   \n",
       "25%                   -0.300554        -1.115394     -5.338911   \n",
       "50%                   -0.040288        -0.567387     -5.337739   \n",
       "75%                    0.339458         0.219078      0.187317   \n",
       "max                   71.512436         2.926139      0.187317   \n",
       "\n",
       "       TIMING_ADVANCE  TROUBLE_CODES         MODEL  \n",
       "count    35742.000000   35742.000000  35742.000000  \n",
       "mean        -0.122949       4.281182      0.498321  \n",
       "std          0.962978       2.795453      0.767863  \n",
       "min         -3.337648       0.000000      0.000000  \n",
       "25%         -0.758044       2.000000      0.000000  \n",
       "50%         -0.175465       5.000000      0.000000  \n",
       "75%          0.548840       7.000000      1.000000  \n",
       "max          2.822506       9.000000      2.000000  "
      ]
     },
     "execution_count": 5,
     "metadata": {},
     "output_type": "execute_result"
    }
   ],
   "source": [
    "df.describe()"
   ]
  },
  {
   "cell_type": "code",
   "execution_count": 27,
   "metadata": {},
   "outputs": [
    {
     "name": "stdout",
     "output_type": "stream",
     "text": [
      "[ 0.23888651  0.86156558  0.60725061  0.7811556   0.19284566 -0.42041162\n",
      " -3.52319855 -0.12294865  4.2811818   0.4983213 ]\n"
     ]
    }
   ],
   "source": [
    "in_st = df.describe()\n",
    "means_array = in_st.loc['mean'].values\n",
    "print(means_array)"
   ]
  },
  {
   "cell_type": "code",
   "execution_count": 28,
   "metadata": {},
   "outputs": [
    {
     "name": "stdout",
     "output_type": "stream",
     "text": [
      "[1.24680145 1.08455267 1.326272   1.03891892 2.8243492  0.90504288\n",
      " 2.59540894 0.96297799 2.79545312 0.76786337]\n"
     ]
    }
   ],
   "source": [
    "std_array = in_st.loc['std'].values\n",
    "print(std_array)"
   ]
  },
  {
   "cell_type": "code",
   "execution_count": 6,
   "metadata": {},
   "outputs": [
    {
     "data": {
      "text/plain": [
       "(35742, 10)"
      ]
     },
     "execution_count": 6,
     "metadata": {},
     "output_type": "execute_result"
    }
   ],
   "source": [
    "df.shape"
   ]
  },
  {
   "cell_type": "markdown",
   "metadata": {},
   "source": [
    "Model: {'citroen': 0, 'peugeot': 1, 'volkswagen': 2}"
   ]
  },
  {
   "cell_type": "code",
   "execution_count": 7,
   "metadata": {},
   "outputs": [
    {
     "name": "stdout",
     "output_type": "stream",
     "text": [
      "MODEL\n",
      "0    24000\n",
      "1     5673\n",
      "2     6069\n",
      "Name: MODEL, dtype: int64\n"
     ]
    }
   ],
   "source": [
    "MODEL_counts = print(df.groupby('MODEL')['MODEL'].count())"
   ]
  },
  {
   "cell_type": "markdown",
   "metadata": {},
   "source": [
    "{'B0004': 0, 'C0300': 1, 'C1004': 2, 'P0078': 3, 'P0079': 4, 'P0133': 5, 'P2004': 6, 'P2036': 7, 'P3000': 8, 'U1004': 9}"
   ]
  },
  {
   "cell_type": "code",
   "execution_count": 8,
   "metadata": {},
   "outputs": [
    {
     "name": "stdout",
     "output_type": "stream",
     "text": [
      "TROUBLE_CODES\n",
      "0    3000\n",
      "1    5673\n",
      "2    3000\n",
      "3    3000\n",
      "4    3000\n",
      "5    6069\n",
      "6    3000\n",
      "7    3000\n",
      "8    3000\n",
      "9    3000\n",
      "Name: TROUBLE_CODES, dtype: int64\n"
     ]
    }
   ],
   "source": [
    "TROUBLE_CODE_counts = print(df.groupby('TROUBLE_CODES')['TROUBLE_CODES'].count())"
   ]
  },
  {
   "cell_type": "code",
   "execution_count": 9,
   "metadata": {},
   "outputs": [],
   "source": [
    "X = df.drop(columns=['TROUBLE_CODES', 'MODEL'])\n",
    "y = df['TROUBLE_CODES']"
   ]
  },
  {
   "cell_type": "code",
   "execution_count": 10,
   "metadata": {},
   "outputs": [
    {
     "name": "stdout",
     "output_type": "stream",
     "text": [
      "X_train shape: (25019, 8)\n",
      "X_test shape: (10723, 8)\n",
      "y_train shape: (25019,)\n",
      "y_test shape: (10723,)\n"
     ]
    }
   ],
   "source": [
    "X_train, X_test, y_train, y_test = train_test_split(X, y, test_size=0.3, random_state=42)\n",
    "\n",
    "print(\"X_train shape:\", X_train.shape)\n",
    "print(\"X_test shape:\", X_test.shape)\n",
    "print(\"y_train shape:\", y_train.shape)\n",
    "print(\"y_test shape:\", y_test.shape)"
   ]
  },
  {
   "cell_type": "code",
   "execution_count": 11,
   "metadata": {},
   "outputs": [],
   "source": [
    "from xgboost import XGBClassifier"
   ]
  },
  {
   "cell_type": "code",
   "execution_count": 12,
   "metadata": {},
   "outputs": [],
   "source": [
    "import xgboost as xgb\n",
    "dtrain = xgb.DMatrix(X_train, label=y_train)\n",
    "dtest = xgb.DMatrix(X_test, label=y_test)"
   ]
  },
  {
   "cell_type": "code",
   "execution_count": 13,
   "metadata": {},
   "outputs": [],
   "source": [
    "params = {\n",
    "    'objective': 'multi:softmax',  # For multiclass classification\n",
    "    'num_class': len(np.unique(y_train)),  # Number of classes\n",
    "    'max_depth': 6,\n",
    "    'eta': 0.3,\n",
    "    'eval_metric': 'merror'\n",
    "}"
   ]
  },
  {
   "cell_type": "code",
   "execution_count": 14,
   "metadata": {},
   "outputs": [
    {
     "name": "stdout",
     "output_type": "stream",
     "text": [
      "[0]\ttrain-merror:0.21148\ttest-merror:0.23370\n",
      "[1]\ttrain-merror:0.19297\ttest-merror:0.21832\n",
      "[2]\ttrain-merror:0.18398\ttest-merror:0.20890\n",
      "[3]\ttrain-merror:0.17603\ttest-merror:0.20461\n",
      "[4]\ttrain-merror:0.17095\ttest-merror:0.20050\n",
      "[5]\ttrain-merror:0.16595\ttest-merror:0.19789\n",
      "[6]\ttrain-merror:0.16044\ttest-merror:0.19612\n",
      "[7]\ttrain-merror:0.15680\ttest-merror:0.19323\n",
      "[8]\ttrain-merror:0.15340\ttest-merror:0.18922\n",
      "[9]\ttrain-merror:0.15029\ttest-merror:0.18614\n",
      "[10]\ttrain-merror:0.14665\ttest-merror:0.18586\n",
      "[11]\ttrain-merror:0.14353\ttest-merror:0.18372\n",
      "[12]\ttrain-merror:0.14113\ttest-merror:0.18288\n",
      "[13]\ttrain-merror:0.13829\ttest-merror:0.18055\n",
      "[14]\ttrain-merror:0.13454\ttest-merror:0.17952\n",
      "[15]\ttrain-merror:0.13210\ttest-merror:0.17803\n",
      "[16]\ttrain-merror:0.12910\ttest-merror:0.17663\n",
      "[17]\ttrain-merror:0.12714\ttest-merror:0.17551\n",
      "[18]\ttrain-merror:0.12387\ttest-merror:0.17420\n",
      "[19]\ttrain-merror:0.12107\ttest-merror:0.17346\n",
      "[20]\ttrain-merror:0.11895\ttest-merror:0.17309\n",
      "[21]\ttrain-merror:0.11699\ttest-merror:0.17141\n",
      "[22]\ttrain-merror:0.11499\ttest-merror:0.17131\n",
      "[23]\ttrain-merror:0.11295\ttest-merror:0.17066\n",
      "[24]\ttrain-merror:0.11160\ttest-merror:0.16973\n",
      "[25]\ttrain-merror:0.10984\ttest-merror:0.16861\n",
      "[26]\ttrain-merror:0.10784\ttest-merror:0.16814\n",
      "[27]\ttrain-merror:0.10632\ttest-merror:0.16786\n",
      "[28]\ttrain-merror:0.10480\ttest-merror:0.16665\n",
      "[29]\ttrain-merror:0.10304\ttest-merror:0.16618\n",
      "[30]\ttrain-merror:0.10216\ttest-merror:0.16656\n",
      "[31]\ttrain-merror:0.10032\ttest-merror:0.16516\n",
      "[32]\ttrain-merror:0.09932\ttest-merror:0.16544\n",
      "[33]\ttrain-merror:0.09805\ttest-merror:0.16553\n",
      "[34]\ttrain-merror:0.09705\ttest-merror:0.16563\n",
      "[35]\ttrain-merror:0.09533\ttest-merror:0.16488\n",
      "[36]\ttrain-merror:0.09325\ttest-merror:0.16544\n",
      "[37]\ttrain-merror:0.09201\ttest-merror:0.16553\n",
      "[38]\ttrain-merror:0.09141\ttest-merror:0.16479\n",
      "[39]\ttrain-merror:0.09053\ttest-merror:0.16525\n",
      "[40]\ttrain-merror:0.08937\ttest-merror:0.16525\n",
      "[41]\ttrain-merror:0.08805\ttest-merror:0.16497\n",
      "[42]\ttrain-merror:0.08653\ttest-merror:0.16628\n",
      "[43]\ttrain-merror:0.08581\ttest-merror:0.16646\n",
      "[44]\ttrain-merror:0.08458\ttest-merror:0.16609\n",
      "[45]\ttrain-merror:0.08338\ttest-merror:0.16563\n",
      "[46]\ttrain-merror:0.08266\ttest-merror:0.16637\n",
      "[47]\ttrain-merror:0.08182\ttest-merror:0.16544\n",
      "[48]\ttrain-merror:0.08030\ttest-merror:0.16497\n",
      "[49]\ttrain-merror:0.07926\ttest-merror:0.16507\n",
      "[50]\ttrain-merror:0.07786\ttest-merror:0.16572\n",
      "[51]\ttrain-merror:0.07694\ttest-merror:0.16516\n",
      "[52]\ttrain-merror:0.07546\ttest-merror:0.16488\n",
      "[53]\ttrain-merror:0.07434\ttest-merror:0.16516\n",
      "[54]\ttrain-merror:0.07318\ttest-merror:0.16535\n",
      "[55]\ttrain-merror:0.07203\ttest-merror:0.16507\n",
      "[56]\ttrain-merror:0.07127\ttest-merror:0.16516\n",
      "[57]\ttrain-merror:0.07003\ttest-merror:0.16563\n",
      "[58]\ttrain-merror:0.06943\ttest-merror:0.16591\n"
     ]
    }
   ],
   "source": [
    "xgb_model = xgb.train(params, dtrain, num_boost_round=200, evals=[(dtrain, 'train'), (dtest, 'test')], early_stopping_rounds=20)"
   ]
  },
  {
   "cell_type": "code",
   "execution_count": 15,
   "metadata": {},
   "outputs": [
    {
     "name": "stdout",
     "output_type": "stream",
     "text": [
      "Train Accuracy: 0.9305727646988289\n"
     ]
    }
   ],
   "source": [
    "# Predict on the training set\n",
    "y_train_pred = xgb_model.predict(dtrain)\n",
    "\n",
    "# Print train accuracy\n",
    "train_accuracy = accuracy_score(y_train, y_train_pred)\n",
    "print(\"Train Accuracy:\", train_accuracy)"
   ]
  },
  {
   "cell_type": "code",
   "execution_count": 16,
   "metadata": {},
   "outputs": [],
   "source": [
    "y_pred = xgb_model.predict(dtest)"
   ]
  },
  {
   "cell_type": "code",
   "execution_count": 17,
   "metadata": {},
   "outputs": [
    {
     "name": "stdout",
     "output_type": "stream",
     "text": [
      "Accuracy: 0.8340949361186235\n"
     ]
    }
   ],
   "source": [
    "print(\"Accuracy:\", accuracy_score(y_test, y_pred))"
   ]
  },
  {
   "cell_type": "code",
   "execution_count": 18,
   "metadata": {},
   "outputs": [
    {
     "name": "stdout",
     "output_type": "stream",
     "text": [
      "Classification Report:\n",
      "               precision    recall  f1-score   support\n",
      "\n",
      "           0       0.90      0.92      0.91       919\n",
      "           1       0.98      0.99      0.99      1725\n",
      "           2       0.74      0.75      0.75       914\n",
      "           3       0.67      0.71      0.69       839\n",
      "           4       0.75      0.68      0.72       905\n",
      "           5       0.99      0.99      0.99      1802\n",
      "           6       0.70      0.69      0.69       898\n",
      "           7       0.80      0.85      0.83       912\n",
      "           8       0.82      0.76      0.79       900\n",
      "           9       0.69      0.70      0.69       909\n",
      "\n",
      "    accuracy                           0.83     10723\n",
      "   macro avg       0.80      0.80      0.80     10723\n",
      "weighted avg       0.83      0.83      0.83     10723\n",
      "\n"
     ]
    }
   ],
   "source": [
    "print(\"Classification Report:\\n\", classification_report(y_test, y_pred))\n"
   ]
  },
  {
   "cell_type": "code",
   "execution_count": 19,
   "metadata": {},
   "outputs": [
    {
     "data": {
      "image/png": "[encoded data removed]",
      "text/plain": [
       "<Figure size 1000x700 with 2 Axes>"
      ]
     },
     "metadata": {},
     "output_type": "display_data"
    }
   ],
   "source": [
    "plt.figure(figsize=(10, 7))\n",
    "sns.heatmap(confusion_matrix(y_test, y_pred), annot=True, fmt='d', cmap='Blues')\n",
    "plt.xlabel('Predicted')\n",
    "plt.ylabel('Actual')\n",
    "plt.title('Confusion Matrix: XGB')\n",
    "plt.show()\n"
   ]
  },
  {
   "cell_type": "code",
   "execution_count": 62,
   "metadata": {},
   "outputs": [
    {
     "data": {
      "text/plain": [
       "['D:\\\\Mtech Project\\\\Code Files\\\\Report_Generation\\\\classification_model.pkl']"
      ]
     },
     "execution_count": 62,
     "metadata": {},
     "output_type": "execute_result"
    }
   ],
   "source": [
    "joblib.dump(xgb_model, 'D:\\Mtech Project\\Code Files\\Report_Generation\\classification_model.pkl')"
   ]
  },
  {
   "cell_type": "markdown",
   "metadata": {},
   "source": [
    "Live Testing"
   ]
  },
  {
   "cell_type": "code",
   "execution_count": 33,
   "metadata": {},
   "outputs": [],
   "source": [
    "feature_names = [\n",
    "    \"ENGINE_RPM\", \"ENGINE_COOLANT_TEMP\", \"ENGINE_LOAD\", \"THROTTLE_POS\",\n",
    "    \"INTAKE_MANIFOLD_PRESSURE\", \"AIR_INTAKE_TEMP\", \"ENGINE_POWER\", \"TIMING_ADVANCE\"\n",
    "]"
   ]
  },
  {
   "cell_type": "code",
   "execution_count": 38,
   "metadata": {},
   "outputs": [],
   "source": [
    "label_to_dtc = {\n",
    "    0: 'B0004', 1: 'C0300', 2: 'C1004', 3: 'P0078', 4: 'P0079',\n",
    "    5: 'P0133', 6: 'P2004', 7: 'P2036', 8: 'P3000', 9: 'U1004'\n",
    "}"
   ]
  },
  {
   "cell_type": "code",
   "execution_count": 34,
   "metadata": {},
   "outputs": [],
   "source": [
    "def scale_engine_parameters(input_values):\n",
    "    means_array = np.array([0.23888651, 0.86156558, 0.60725061, 0.7811556, 0.19284566, -0.42041162, -3.52319855, -0.12294865])\n",
    "    std_array = np.array([1.24680145, 1.08455267, 1.326272, 1.03891892, 2.8243492, 0.90504288, 2.59540894, 0.96297799])\n",
    "    \n",
    "    input_values = np.array(input_values)\n",
    "    scaled_values = (input_values - means_array) / std_array\n",
    "    \n",
    "    return scaled_values"
   ]
  },
  {
   "cell_type": "code",
   "execution_count": 46,
   "metadata": {},
   "outputs": [],
   "source": [
    "def get_prediction(xgb_model, input_values):\n",
    "    scaled_values = scale_engine_parameters(input_values)\n",
    "    scaled_values = scaled_values.reshape(1, -1)  # Reshape for model input\n",
    "    dmatrix_input = xgb.DMatrix(scaled_values, feature_names=feature_names)  # Set feature names\n",
    "    prediction_label = int(xgb_model.predict(dmatrix_input)[0])  # Convert to integer class label\n",
    "    dtc_code = label_to_dtc.get(prediction_label, \"Unknown\")  # Get corresponding DTC code\n",
    "    return prediction_label, dtc_code"
   ]
  },
  {
   "cell_type": "code",
   "execution_count": 49,
   "metadata": {},
   "outputs": [
    {
     "name": "stdout",
     "output_type": "stream",
     "text": [
      "5\n",
      "Predicted DTC is :  P0133\n"
     ]
    }
   ],
   "source": [
    "input_values = [1659,42,0.063,0.043,24,30,1.6,0.714] \n",
    "prediction_label, dtc_code = get_prediction(xgb_model, input_values)\n",
    "print(prediction_label)\n",
    "print(\"Predicted DTC is : \",dtc_code)\n"
   ]
  },
  {
   "cell_type": "code",
   "execution_count": null,
   "metadata": {},
   "outputs": [],
   "source": []
  }
 ],
 "metadata": {
  "kernelspec": {
   "display_name": "Python 3",
   "language": "python",
   "name": "python3"
  },
  "language_info": {
   "codemirror_mode": {
    "name": "ipython",
    "version": 3
   },
   "file_extension": ".py",
   "mimetype": "text/x-python",
   "name": "python",
   "nbconvert_exporter": "python",
   "pygments_lexer": "ipython3",
   "version": "3.10.4"
  }
 },
 "nbformat": 4,
 "nbformat_minor": 2
}
