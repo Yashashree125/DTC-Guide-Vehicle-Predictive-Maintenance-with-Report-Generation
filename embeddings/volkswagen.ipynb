{
 "cells": [
  {
   "cell_type": "code",
   "execution_count": 1,
   "metadata": {},
   "outputs": [
    {
     "name": "stderr",
     "output_type": "stream",
     "text": [
      "c:\\Users\\TB3J2AM\\AppData\\Local\\Programs\\Python\\Python312\\Lib\\site-packages\\tqdm\\auto.py:21: TqdmWarning: IProgress not found. Please update jupyter and ipywidgets. See https://ipywidgets.readthedocs.io/en/stable/user_install.html\n",
      "  from .autonotebook import tqdm as notebook_tqdm\n"
     ]
    }
   ],
   "source": [
    "import pdfplumber\n",
    "from sentence_transformers import SentenceTransformer\n",
    "import faiss\n",
    "import numpy as np"
   ]
  },
  {
   "cell_type": "code",
   "execution_count": 2,
   "metadata": {},
   "outputs": [],
   "source": [
    "def extract_text_from_pdf(pdf_path):\n",
    "    volkswagen_text = \"\"\n",
    "    with pdfplumber.open(pdf_path) as pdf:\n",
    "        for page in pdf.pages:\n",
    "            volkswagen_text += page.extract_text()\n",
    "    return volkswagen_text"
   ]
  },
  {
   "cell_type": "code",
   "execution_count": 3,
   "metadata": {},
   "outputs": [],
   "source": [
    "pdf_path = r'C:\\Yashashree\\MOMO\\Report_Generation\\Volkswagen.pdf'\n",
    "extracted_text = extract_text_from_pdf(pdf_path)"
   ]
  },
  {
   "cell_type": "code",
   "execution_count": 4,
   "metadata": {},
   "outputs": [],
   "source": [
    "model = SentenceTransformer('all-MiniLM-L6-v2')\n"
   ]
  },
  {
   "cell_type": "code",
   "execution_count": 5,
   "metadata": {},
   "outputs": [],
   "source": [
    "volkswagen_texts = extracted_text.split('\\n')"
   ]
  },
  {
   "cell_type": "code",
   "execution_count": 10,
   "metadata": {},
   "outputs": [],
   "source": [
    "with open('volkswagen_texts.txt', 'w', encoding='utf-8') as file:\n",
    "    for line in volkswagen_texts:\n",
    "        file.write(\"%s\\n\" % line)"
   ]
  },
  {
   "cell_type": "code",
   "execution_count": null,
   "metadata": {},
   "outputs": [],
   "source": [
    "# embeddings for the text chunks\n",
    "embeddings = model.encode(volkswagen_texts, convert_to_tensor=True)\n",
    "\n",
    "# embeddings to numpy array\n",
    "embeddings_np = embeddings.cpu().detach().numpy()\n",
    "\n",
    "# Initialize FAISS index\n",
    "dimension = embeddings_np.shape[1]  # Dimension of the embeddings\n",
    "index = faiss.IndexFlatL2(dimension)\n",
    "\n",
    "# Add embeddings to the index\n",
    "index.add(embeddings_np)\n",
    "\n",
    "# save the index to disk\n",
    "faiss.write_index(index, r'C:\\Yashashree\\MOMO\\Report_Generation\\EMbeddings\\volkswagen.index')"
   ]
  },
  {
   "cell_type": "markdown",
   "metadata": {},
   "source": [
    "Citroen"
   ]
  },
  {
   "cell_type": "code",
   "execution_count": 15,
   "metadata": {},
   "outputs": [],
   "source": [
    "def extract_text_from_pdf(pdf_path):\n",
    "    citroen_text = \"\"\n",
    "    with pdfplumber.open(pdf_path) as pdf:\n",
    "        for page in pdf.pages:\n",
    "            citroen_text += page.extract_text()\n",
    "    return citroen_text"
   ]
  },
  {
   "cell_type": "code",
   "execution_count": 16,
   "metadata": {},
   "outputs": [],
   "source": [
    "pdf_path = r'C:\\Yashashree\\MOMO\\Report_Generation\\Citroen.pdf'\n",
    "extracted_text = extract_text_from_pdf(pdf_path)"
   ]
  },
  {
   "cell_type": "code",
   "execution_count": 17,
   "metadata": {},
   "outputs": [],
   "source": [
    "model = SentenceTransformer('all-MiniLM-L6-v2')\n"
   ]
  },
  {
   "cell_type": "code",
   "execution_count": 18,
   "metadata": {},
   "outputs": [],
   "source": [
    "citroen_texts = extracted_text.split('\\n')"
   ]
  },
  {
   "cell_type": "code",
   "execution_count": 19,
   "metadata": {},
   "outputs": [],
   "source": [
    "with open('citroen_texts.txt', 'w', encoding='utf-8') as file:\n",
    "    for line in citroen_texts:\n",
    "        file.write(\"%s\\n\" % line)"
   ]
  },
  {
   "cell_type": "code",
   "execution_count": 20,
   "metadata": {},
   "outputs": [],
   "source": [
    "# embeddings for the text chunks\n",
    "embeddings = model.encode(citroen_texts, convert_to_tensor=True)\n",
    "\n",
    "# embeddings to numpy array\n",
    "embeddings_np = embeddings.cpu().detach().numpy()\n",
    "\n",
    "# Initialize FAISS index\n",
    "dimension = embeddings_np.shape[1]  # Dimension of the embeddings\n",
    "index = faiss.IndexFlatL2(dimension)\n",
    "\n",
    "# Add embeddings to the index\n",
    "index.add(embeddings_np)\n",
    "\n",
    "# save the index to disk\n",
    "faiss.write_index(index, r'C:\\Yashashree\\MOMO\\Report_Generation\\EMbeddings\\citroen.index')"
   ]
  },
  {
   "cell_type": "markdown",
   "metadata": {},
   "source": [
    "Peugeot"
   ]
  },
  {
   "cell_type": "code",
   "execution_count": 21,
   "metadata": {},
   "outputs": [],
   "source": [
    "def extract_text_from_pdf(pdf_path):\n",
    "    peugeot_text = \"\"\n",
    "    with pdfplumber.open(pdf_path) as pdf:\n",
    "        for page in pdf.pages:\n",
    "            peugeot_text += page.extract_text()\n",
    "    return peugeot_text"
   ]
  },
  {
   "cell_type": "code",
   "execution_count": 22,
   "metadata": {},
   "outputs": [],
   "source": [
    "pdf_path = r'C:\\Yashashree\\MOMO\\Report_Generation\\Peugeot.pdf'\n",
    "extracted_text = extract_text_from_pdf(pdf_path)"
   ]
  },
  {
   "cell_type": "code",
   "execution_count": 23,
   "metadata": {},
   "outputs": [],
   "source": [
    "peugeot_texts = extracted_text.split('\\n')"
   ]
  },
  {
   "cell_type": "code",
   "execution_count": 24,
   "metadata": {},
   "outputs": [],
   "source": [
    "with open('peugeot_texts.txt', 'w', encoding='utf-8') as file:\n",
    "    for line in peugeot_texts:\n",
    "        file.write(\"%s\\n\" % line)"
   ]
  },
  {
   "cell_type": "code",
   "execution_count": 25,
   "metadata": {},
   "outputs": [],
   "source": [
    "# embeddings for the text chunks\n",
    "embeddings = model.encode(peugeot_texts, convert_to_tensor=True)\n",
    "\n",
    "# embeddings to numpy array\n",
    "embeddings_np = embeddings.cpu().detach().numpy()\n",
    "\n",
    "# Initialize FAISS index\n",
    "dimension = embeddings_np.shape[1]  # Dimension of the embeddings\n",
    "index = faiss.IndexFlatL2(dimension)\n",
    "\n",
    "# Add embeddings to the index\n",
    "index.add(embeddings_np)\n",
    "\n",
    "# save the index to disk\n",
    "faiss.write_index(index, r'C:\\Yashashree\\MOMO\\Report_Generation\\EMbeddings\\peugeot.index')"
   ]
  }
 ],
 "metadata": {
  "kernelspec": {
   "display_name": "Python 3",
   "language": "python",
   "name": "python3"
  },
  "language_info": {
   "codemirror_mode": {
    "name": "ipython",
    "version": 3
   },
   "file_extension": ".py",
   "mimetype": "text/x-python",
   "name": "python",
   "nbconvert_exporter": "python",
   "pygments_lexer": "ipython3",
   "version": "3.12.7"
  }
 },
 "nbformat": 4,
 "nbformat_minor": 2
}
